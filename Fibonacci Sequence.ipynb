{
 "cells": [
  {
   "cell_type": "code",
   "execution_count": 79,
   "metadata": {},
   "outputs": [],
   "source": [
    "#A simple function to create a dictionary of the Fibonacci Sequence\n",
    "def Fibonacci(n):\n",
    "    #Initiate two lists, with the keys and values of the first two numbers in the Fibonacci Sequence\n",
    "    keys = [1,2]\n",
    "    values = [0,1]\n",
    "    for i in range(3,n+1):\n",
    "        keys.append(i)\n",
    "        values.append(values[-1]+values[-2])\n",
    "    return dict(zip(keys, values))"
   ]
  }
 ],
 "metadata": {
  "kernelspec": {
   "display_name": "Python 3",
   "language": "python",
   "name": "python3"
  },
  "language_info": {
   "codemirror_mode": {
    "name": "ipython",
    "version": 3
   },
   "file_extension": ".py",
   "mimetype": "text/x-python",
   "name": "python",
   "nbconvert_exporter": "python",
   "pygments_lexer": "ipython3",
   "version": "3.7.6"
  }
 },
 "nbformat": 4,
 "nbformat_minor": 4
}
